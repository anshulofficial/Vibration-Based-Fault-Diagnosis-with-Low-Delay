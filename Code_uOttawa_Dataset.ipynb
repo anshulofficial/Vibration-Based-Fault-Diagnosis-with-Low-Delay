{
 "cells": [
  {
   "cell_type": "code",
   "execution_count": 1,
   "metadata": {},
   "outputs": [],
   "source": [
    "import glob\n",
    "from scipy.io import loadmat\n",
    "from numpy import asarray\n",
    "import matplotlib.pyplot as plt\n",
    "import numpy as np\n",
    "from scipy import signal\n",
    "import scipy\n",
    "import re\n",
    "import os\n",
    "import pandas as pd\n",
    "import pywt\n",
    "from scipy.fftpack import fft\n",
    "from warnings import warn\n",
    "from sklearn import metrics\n",
    "\n",
    "import warnings \n",
    "warnings.filterwarnings('ignore')"
   ]
  },
  {
   "cell_type": "code",
   "execution_count": 3,
   "metadata": {},
   "outputs": [],
   "source": [
    "# Function for FFT\n",
    "\n",
    "def apply_fft(x, fs, num_samples):\n",
    "    f = np.linspace(0.0, (fs/2.0), num_samples//2)\n",
    "    freq_values = fft(x)\n",
    "    freq_values = 2.0/num_samples * np.abs(freq_values[0:num_samples//2])\n",
    "    return f, freq_values"
   ]
  },
  {
   "cell_type": "code",
   "execution_count": 4,
   "metadata": {},
   "outputs": [],
   "source": [
    "# @@@ Function to create dataset from raw vibration signals @@@\n",
    "# The function processes .mat vibration data files and do segmentation of vibration signals according to \n",
    "# desired length of the input segment \"num_samples\".\n",
    "# The function returns segmented vibration signlas \"segmented_data\" along with their classes \" Class_\" . \n",
    "\n",
    "def make_dataset(data_src, num_samples, class_):\n",
    "    files = glob.glob(data_src)\n",
    "    files = np.sort(files)\n",
    "    data = loadmat(files[0])\n",
    "    keysList = sorted(data.keys())\n",
    "    key = keysList[0]\n",
    "    drive_end_data = data[key]\n",
    "    drive_end_data = drive_end_data.reshape(-1)\n",
    "    num_segments = np.floor(len(drive_end_data)/num_samples)\n",
    "    slices = np.split(drive_end_data[0:int(num_segments*num_samples)], num_samples)\n",
    "    slices = np.array(slices).reshape(int(num_segments), num_samples)\n",
    "    segmented_data = slices\n",
    "    files = files[1:]\n",
    "    for file in files:\n",
    "        data = loadmat(file)\n",
    "        keysList = sorted(data.keys())\n",
    "        key = keysList[0]\n",
    "        drive_end_data = data[key]\n",
    "        drive_end_data = drive_end_data.reshape(-1)\n",
    "        num_segments = np.floor(len(drive_end_data)/num_samples)\n",
    "        slices = np.split(drive_end_data[0:int(num_segments*num_samples)], num_samples)\n",
    "        slices = np.array(slices).reshape(int(num_segments), num_samples)\n",
    "        segmented_data = np.concatenate( (segmented_data, slices) , axis=0, out=None)\n",
    "    \n",
    "    segmented_data = np.unique(segmented_data, axis= 0) # remove duplicates\n",
    "    np.random.shuffle( segmented_data) # suffule the data\n",
    "    Class_ = np.ones(len(segmented_data))*class_\n",
    "    \n",
    "    return segmented_data, Class_"
   ]
  },
  {
   "cell_type": "markdown",
   "metadata": {},
   "source": [
    "==========================================================================================================================\n",
    "# Dataset Creatioin:\n",
    "=========================================================================================================================== "
   ]
  },
  {
   "cell_type": "markdown",
   "metadata": {},
   "source": [
    "## Grouping vibration signals in required folders to  generate datasets\n",
    " \n",
    "Link to download the uOttawa dataset: https://data.mendeley.com/datasets/v43hmbwxpm/2 <br>\n",
    "After downloading the dataset, vibration signals to be grouped according to their operational conditions/properties* in 5 folders (corresponding to number of operational classes in the dataset: 1 normal class and 4 faulty classes) with below folder names:\n",
    "\n",
    "1.\tHealthy\n",
    "2.\tIR\n",
    "3.\tOR\n",
    "4.\tBF\n",
    "5.  CompF\n",
    "\n",
    "*IR = Inner Race fault <br>\n",
    "*OR = Outer Race faults <br>\n",
    "*BF = Ball faults <br>\n",
    "*CompF = Combination of faults\n",
    "\n"
   ]
  },
  {
   "cell_type": "code",
   "execution_count": 2,
   "metadata": {},
   "outputs": [],
   "source": [
    "num_samples = 40000 # # Set required length of input vibration segment \"number of data points\"\n",
    "###########################################\n",
    "fs = 200000; # Sampling freq."
   ]
  },
  {
   "cell_type": "code",
   "execution_count": 6,
   "metadata": {},
   "outputs": [],
   "source": [
    "data_path = (r\"C:\\dataset\") # path were the folders contain vibration signals are located.\n",
    "\n",
    "cls_1 = 'Healthy/*'\n",
    "cls_2 = 'IR/*'\n",
    "cls_3 = 'OR/*'\n",
    "cls_4 = 'BF/*'\n",
    "cls_5 = 'CompF/*'\n",
    "\n",
    "norm, y_norm   = make_dataset(os.path.join(data_path, cls_1), num_samples, 0)\n",
    "defc1, y_defc1 = make_dataset(os.path.join(data_path, cls_2), num_samples, 1)\n",
    "defc2, y_defc2 = make_dataset(os.path.join(data_path, cls_3), num_samples, 2)\n",
    "defc3, y_defc3 = make_dataset(os.path.join(data_path, cls_4), num_samples, 3)\n",
    "defc4, y_defc4 = make_dataset(os.path.join(data_path, cls_5), num_samples, 4)\n"
   ]
  },
  {
   "cell_type": "code",
   "execution_count": 18,
   "metadata": {},
   "outputs": [],
   "source": [
    "X = np.concatenate( (norm, defc1, defc2, defc3, defc4) , axis=0, out=None)\n",
    "Y = np.concatenate( (y_norm, y_defc1, y_defc2, y_defc3, y_defc4), axis=0, out=None)"
   ]
  },
  {
   "cell_type": "markdown",
   "metadata": {},
   "source": [
    "==========================================================================================================================\n",
    "# Feature Extraction:\n",
    "=========================================================================================================================== "
   ]
  },
  {
   "cell_type": "code",
   "execution_count": 8,
   "metadata": {},
   "outputs": [],
   "source": [
    "#####INPUTS / Parameters #############\n",
    "wavelet_function = \"db4\"\n",
    "num_levels = 7 # k parameter\n",
    "m = 5 # m parameter"
   ]
  },
  {
   "cell_type": "code",
   "execution_count": 9,
   "metadata": {},
   "outputs": [],
   "source": [
    "# Wavelet Packet Transform and feature extraction:\n",
    "\n",
    "num_features = 2**num_levels\n",
    "features = np.repeat(np.nan, len(X)*m*num_features).reshape(len(X),m*num_features)\n",
    "\n",
    "for i in range(len(X)):    \n",
    "    wp = pywt.WaveletPacket(X[i], wavelet = wavelet_function, maxlevel = num_levels) # Wavelet packet transformation\n",
    "    packet_names = [node.path for node in wp.get_level(num_levels, \"natural\")]\n",
    "    for j in range(num_features):\n",
    "        new_wp = pywt.WaveletPacket(data = None, wavelet = wavelet_function, maxlevel = num_levels)\n",
    "        new_wp[packet_names[j]] = wp[packet_names[j]].data\n",
    "        reconstructed_signal = new_wp.reconstruct(update = False) # Signal reconstruction from wavelet packet coefficients\n",
    "        f, c = apply_fft(reconstructed_signal, fs, len(reconstructed_signal))\n",
    "        z = abs(c)\n",
    "        \n",
    "        # Find  m  highest amplitudes of the spectrum and their corresponding frequencies:\n",
    "        maximal_idx = np.argpartition(z, -m)[-m:]\n",
    "        high_amp = z[maximal_idx]\n",
    "        high_freq = f[maximal_idx]\n",
    "        feature = high_amp*high_freq\n",
    "        \n",
    "        l = 0\n",
    "        for f in feature:\n",
    "            features[i,j*m+l] = f\n",
    "            l = l+1"
   ]
  },
  {
   "cell_type": "markdown",
   "metadata": {},
   "source": [
    "===========================================================================================================================\n",
    "# Classification:\n",
    "==========================================================================================================================="
   ]
  },
  {
   "cell_type": "code",
   "execution_count": 10,
   "metadata": {},
   "outputs": [],
   "source": [
    "from sklearn.model_selection import train_test_split\n",
    "from sklearn.preprocessing import StandardScaler\n",
    "import seaborn as sns\n",
    "from sklearn.ensemble import RandomForestClassifier\n",
    "from sklearn.metrics import roc_curve\n",
    "from sklearn.metrics import roc_auc_score\n",
    "from sklearn.metrics import accuracy_score, confusion_matrix"
   ]
  },
  {
   "cell_type": "code",
   "execution_count": 11,
   "metadata": {},
   "outputs": [],
   "source": [
    "labels = pd.Categorical(Y)"
   ]
  },
  {
   "cell_type": "code",
   "execution_count": 19,
   "metadata": {},
   "outputs": [],
   "source": [
    "X_train, X_test, y_train, y_test = train_test_split(features, labels, test_size = 0.2, \n",
    "                                                    shuffle = True, stratify = labels)#, random_state = 42)"
   ]
  },
  {
   "cell_type": "code",
   "execution_count": 15,
   "metadata": {},
   "outputs": [],
   "source": [
    "scaler = StandardScaler()\n",
    "train_data_scaled = scaler.fit_transform(X_train)\n",
    "test_data_scaled = scaler.transform(X_test)"
   ]
  },
  {
   "cell_type": "code",
   "execution_count": 16,
   "metadata": {},
   "outputs": [],
   "source": [
    "clf_RF = RandomForestClassifier(criterion='entropy', max_features = 1, min_samples_leaf=1, min_samples_split=3, \n",
    "                                max_depth=20, n_estimators=200)\n",
    "clf_RF.fit(train_data_scaled, y_train)"
   ]
  },
  {
   "cell_type": "code",
   "execution_count": 17,
   "metadata": {},
   "outputs": [
    {
     "name": "stdout",
     "output_type": "stream",
     "text": [
      "No. of Samples = 40000 /  k = 7 /  m = 5\n",
      "ROC AUC = 1.000\n",
      "F1 Score = 0.9915254237288136\n",
      "Accuracy = 99.153 %\n"
     ]
    },
    {
     "data": {
      "image/png": "[encoded data removed]",
      "text/plain": [
       "<Figure size 1296x576 with 2 Axes>"
      ]
     },
     "metadata": {
      "needs_background": "light"
     },
     "output_type": "display_data"
    }
   ],
   "source": [
    "test_predictions = clf_RF.predict(test_data_scaled)\n",
    "test_confu_matrix = confusion_matrix(y_test, test_predictions)\n",
    "fault_type = ['C1','C2','C3','C4']\n",
    "plt.figure(1,figsize=(18,8))\n",
    "sns.heatmap(test_confu_matrix, annot= True,fmt = \"d\",\n",
    "xticklabels=fault_type, yticklabels=fault_type, cmap = \"Blues\")\n",
    "plt.xlabel('Predicted Calss')\n",
    "plt.ylabel('True Class')\n",
    "plt.ylabel('True')\n",
    "Accuracy = metrics.accuracy_score(y_test, test_predictions)\n",
    "F1_score = metrics.f1_score(y_test, test_predictions, average='micro')\n",
    "probs = clf_RF.predict_proba(test_data_scaled)\n",
    "lr_auc = roc_auc_score(y_test, probs, multi_class='ovr')\n",
    "print(\"No. of Samples =\", num_samples, \"/  k =\", num_levels, \"/  m =\", m, )\n",
    "print('ROC AUC = %.3f' % (lr_auc))\n",
    "print(\"F1 Score =\", F1_score)\n",
    "print(\"Accuracy = %.3f\" % (Accuracy*100), \"%\")"
   ]
  },
  {
   "cell_type": "code",
   "execution_count": null,
   "metadata": {},
   "outputs": [],
   "source": []
  }
 ],
 "metadata": {
  "kernelspec": {
   "display_name": "Python 3 (ipykernel)",
   "language": "python",
   "name": "python3"
  },
  "language_info": {
   "codemirror_mode": {
    "name": "ipython",
    "version": 3
   },
   "file_extension": ".py",
   "mimetype": "text/x-python",
   "name": "python",
   "nbconvert_exporter": "python",
   "pygments_lexer": "ipython3",
   "version": "3.9.12"
  }
 },
 "nbformat": 4,
 "nbformat_minor": 4
}
